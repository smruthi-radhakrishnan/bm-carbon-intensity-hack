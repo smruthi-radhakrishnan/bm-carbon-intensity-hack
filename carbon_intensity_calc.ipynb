{
 "cells": [
  {
   "cell_type": "code",
   "execution_count": 1,
   "metadata": {},
   "outputs": [],
   "source": [
    "import pandas as pd\n",
    "import numpy as np"
   ]
  },
  {
   "cell_type": "code",
   "execution_count": 2,
   "metadata": {},
   "outputs": [],
   "source": [
    "# load a csv:\n",
    "df = pd.read_csv('data/all-boas-april2023-march2024.csv')\n"
   ]
  },
  {
   "cell_type": "code",
   "execution_count": 3,
   "metadata": {},
   "outputs": [
    {
     "name": "stdout",
     "output_type": "stream",
     "text": [
      "Index(['ACCEPT TIME', 'ACCEPTING PARTY', 'ACCEPTED BMU', 'BOA REF', 'MAIN SP',\n",
      "       'EXCLUDE BOA REASONS', 'NET VOL (MWh)', 'AVG PRICE (GBP/MWh)',\n",
      "       'NOTICE TIME (MINS)', 'TIME TO TARGET (MINS)', 'TARGET DURATION (MINS)',\n",
      "       'TOTAL DURATION (MINS)', 'PEAK CHANGE (MW)', 'REJECTED BOD',\n",
      "       'ALTERNATIVE BMU', 'UNITS IN STACK'],\n",
      "      dtype='object')\n"
     ]
    }
   ],
   "source": [
    "# print columns:\n",
    "print(df.columns)\n"
   ]
  },
  {
   "cell_type": "code",
   "execution_count": 6,
   "metadata": {},
   "outputs": [
    {
     "name": "stdout",
     "output_type": "stream",
     "text": [
      "\n",
      "Total carbon emissions (tonnes): 1,925,506.71\n",
      "\n",
      "Emissions by fuel type:\n",
      "fuel_type\n",
      "Gas (Combined Cycle)    1.813812e+06\n",
      "Coal                    1.361713e+05\n",
      "Biomass                 6.792708e+03\n",
      "Pumped Storage          0.000000e+00\n",
      "Wind                    0.000000e+00\n",
      "Gas (Open Cycle)       -2.177773e+03\n",
      "Other                  -2.909107e+04\n",
      "Name: carbon_emissions_tonnes, dtype: float64\n",
      "\n",
      "Number of unmapped BMUs: 212\n",
      "\n",
      "Sample of unmapped BMUs (first 10):\n",
      "['CAS-GAR01' 'POTES-1' 'FASN3' 'FASN2' 'FFSE01' 'BBPG01' 'AG-HEL0CP'\n",
      " 'NURSB-1' 'AG-HEL0DN' 'FARNB-1']\n"
     ]
    }
   ],
   "source": [
    "import pandas as pd\n",
    "import json\n",
    "\n",
    "# 1. Read all the data files\n",
    "boas_df = pd.read_csv('data/all-boas-april2023-march2024.csv')\n",
    "carbon_intensity_df = pd.read_csv('data/carbon_intensity.csv')\n",
    "\n",
    "# Load BMU mapping data\n",
    "with open('data/response_1733913471428.json', 'r') as f:\n",
    "    bmu_data = json.load(f)\n",
    "\n",
    "# Rest of the code remains the same\n",
    "bmu_to_fuel_mapping = {}\n",
    "for unit in bmu_data:\n",
    "    national_grid_bmu = unit['nationalGridBmUnit']\n",
    "    elexon_bmu = unit['elexonBmUnit']\n",
    "    fuel_type = unit['fuelType']\n",
    "    \n",
    "    if fuel_type:\n",
    "        # Map both National Grid and Elexon BMU codes\n",
    "        bmu_to_fuel_mapping[national_grid_bmu] = fuel_type\n",
    "        bmu_to_fuel_mapping[elexon_bmu] = fuel_type\n",
    "\n",
    "# 3. Add fuel type to BOAs dataframe\n",
    "boas_df['fuel_type'] = boas_df['ACCEPTED BMU'].map(bmu_to_fuel_mapping)\n",
    "\n",
    "# 4. Standardize fuel type names to match carbon intensity data\n",
    "fuel_type_mapping = {\n",
    "    'WIND': 'Wind',\n",
    "    'CCGT': 'Gas (Combined Cycle)',\n",
    "    'OCGT': 'Gas (Open Cycle)',\n",
    "    'COAL': 'Coal',\n",
    "    'NUCLEAR': 'Nuclear',\n",
    "    'PS': 'Pumped Storage',\n",
    "    'BIOMASS': 'Biomass',\n",
    "    'SOLAR': 'Solar',\n",
    "    'HYDRO': 'Hydro',\n",
    "    'OIL': 'Oil'\n",
    "}\n",
    "boas_df['fuel_type'] = boas_df['fuel_type'].map(fuel_type_mapping).fillna('Other')\n",
    "\n",
    "# 5. Merge with carbon intensity data and calculate emissions\n",
    "result_df = boas_df.merge(carbon_intensity_df, on='fuel_type', how='left')\n",
    "result_df['carbon_emissions_g'] = result_df['NET VOL (MWh)'].fillna(0) * result_df['carbon_intensity'] * 1000\n",
    "result_df['carbon_emissions_tonnes'] = result_df['carbon_emissions_g'] / 1_000_000\n",
    "\n",
    "# 6. Print analysis\n",
    "print(\"\\nTotal carbon emissions (tonnes):\", f\"{result_df['carbon_emissions_tonnes'].sum():,.2f}\")\n",
    "print(\"\\nEmissions by fuel type:\")\n",
    "print(result_df.groupby('fuel_type')['carbon_emissions_tonnes'].sum().sort_values(ascending=False))\n",
    "\n",
    "# 7. Check for unmapped BMUs\n",
    "unmapped_bmus = boas_df[boas_df['fuel_type'] == 'Other']['ACCEPTED BMU'].unique()\n",
    "print(f\"\\nNumber of unmapped BMUs: {len(unmapped_bmus)}\")\n",
    "print(\"\\nSample of unmapped BMUs (first 10):\")\n",
    "print(unmapped_bmus[:10])\n",
    "\n",
    "# Optional: Save results to CSV\n",
    "result_df.to_csv('data/carbon_emissions_results.csv', index=False)"
   ]
  },
  {
   "cell_type": "code",
   "execution_count": null,
   "metadata": {},
   "outputs": [],
   "source": []
  }
 ],
 "metadata": {
  "kernelspec": {
   "display_name": "venv",
   "language": "python",
   "name": "python3"
  },
  "language_info": {
   "codemirror_mode": {
    "name": "ipython",
    "version": 3
   },
   "file_extension": ".py",
   "mimetype": "text/x-python",
   "name": "python",
   "nbconvert_exporter": "python",
   "pygments_lexer": "ipython3",
   "version": "3.10.14"
  }
 },
 "nbformat": 4,
 "nbformat_minor": 2
}
